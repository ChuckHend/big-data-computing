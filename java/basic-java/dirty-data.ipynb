{
 "cells": [
  {
   "cell_type": "code",
   "execution_count": 1,
   "metadata": {},
   "outputs": [],
   "source": [
    "def read_file(path):\n",
    "    data = []\n",
    "    with open(path) as f:\n",
    "        for line in f:\n",
    "            data.append(line.rstrip())\n",
    "            \n",
    "    header = data[0]\n",
    "    # check delimiter\n",
    "    delims = [',',';','|','/t']\n",
    "    \n",
    "    delim = [x for x in delims if x in header]\n",
    "\n",
    "    if len(delim) > 1:\n",
    "        print('Mixed delimiter')\n",
    "    else:\n",
    "        delim = delim[0]\n",
    "        print('Delimiter: {}'.format(delim))\n",
    "    print('\\n')\n",
    "    return [x.split(delim) for x in data]"
   ]
  },
  {
   "cell_type": "code",
   "execution_count": 2,
   "metadata": {},
   "outputs": [],
   "source": [
    "def process_wind(data_list):\n",
    "    print('Processing Wind')\n",
    "    # wind should be 1) in mph, 2) in last column, 3) have numeric values\n",
    "    header = [x.upper() for x in data_list[0]]\n",
    "    wind_label = [x for x in header if 'WIND' in x][0]\n",
    "    \n",
    "    # check index\n",
    "    index = header.index(wind_label)\n",
    "    if index != 5:\n",
    "        print('Wind is in column index {}'.format(index))\n",
    "    \n",
    "    # check speed\n",
    "    if 'MPH' in wind_label:\n",
    "        speed = 'MPH'\n",
    "    else:\n",
    "        print('Speed not in MPH')\n",
    "        speed = wind_label[-3:]\n",
    "    \n",
    "    # check values\n",
    "    # first, take subset\n",
    "    sub = [x[index] for x in data_list]\n",
    "    # by visual inspection, some have 'Calm' as a value. replace this value with numeric 0\n",
    "    cleaned = [float(x) if x.upper() != 'CALM' else 0 for x in sub[1:]]\n",
    "    \n",
    "    # also, if negative value, replace it with zero\n",
    "    cleaned = [0 if x < 0 else x for x in cleaned]\n",
    "    \n",
    "    # convert to MPH if KPH\n",
    "    if speed=='KPH':\n",
    "        conv = 0.621371\n",
    "        cleaned = [x*conv for x in cleaned]\n",
    "\n",
    "    # calculate avg speed for march 2006\n",
    "    # find a boolean vector where month is March and Year is 2006\n",
    "    month = [x[header.index('MONTH')] for x in data_list]\n",
    "    march = [x=='3' for x in month]\n",
    "    year = [x[header.index('YEAR')] for x in data_list]\n",
    "    yr_2006 = [x=='2006' for x in year]\n",
    "    march_2006 = march and yr_2006\n",
    "    # subset the cleaned wind data using the boolean list\n",
    "    march_2006_data =  [i for (i, v) in zip(cleaned, march_2006) if v]\n",
    "    \n",
    "    minval = min(march_2006_data)\n",
    "    maxval = max(march_2006_data)\n",
    "    print('Min: {}, Max: {}'.format(minval, maxval))\n",
    "    # calc average wind space for this subset\n",
    "    sigma = 0\n",
    "    for x in march_2006_data:\n",
    "        sigma += x\n",
    "    \n",
    "    n = len(march_2006_data)\n",
    "    \n",
    "    # return the average wind speed\n",
    "    print('\\n')\n",
    "    return sigma/n"
   ]
  },
  {
   "cell_type": "code",
   "execution_count": 3,
   "metadata": {},
   "outputs": [],
   "source": [
    "def process_temp(data_list):\n",
    "    print('Processing Temp')\n",
    "    # wind should be 1) in mph, 2) in last column, 3) have numeric values\n",
    "    header = [x.upper() for x in data_list[0]]\n",
    "    temp_label = [x for x in header if 'TEMPERATURE' in x][0]\n",
    "    \n",
    "    # check index\n",
    "    index = header.index(temp_label)\n",
    "    if index != 4:\n",
    "        print('Temp is in column index {}'.format(index))\n",
    "    \n",
    "    # check units\n",
    "    if 'F' in temp_label:\n",
    "        temp = 'F'\n",
    "    else:\n",
    "        print('Temp not in F')\n",
    "        temp = temp_label[-1:]\n",
    "    \n",
    "    # check values\n",
    "    # first, take subset\n",
    "    sub = [x[index] for x in data_list]\n",
    "        \n",
    "    # ensure numerics\n",
    "    cleaned = [float(x) for x in sub[1:]]\n",
    "    \n",
    "    # convert to C if F temp\n",
    "    if temp=='C':\n",
    "        cleaned = [(x*1.8)+32 for x in cleaned]\n",
    "    \n",
    "    # calculate avg temp 2016\n",
    "    # find a boolean vector where year is 2006\n",
    "    year = [x[header.index('YEAR')] for x in data_list]\n",
    "    yr_2006 = [x=='2006' for x in year]\n",
    "    # subset the cleaned temp data using the boolean list\n",
    "    yr_2006_data =  [i for (i, v) in zip(cleaned, yr_2006) if v]\n",
    "    \n",
    "    # check outliers\n",
    "    print(min(yr_2006_data))\n",
    "    \n",
    "    # remove outliers\n",
    "    yr_2006_data = [x for x in yr_2006_data if x > -150]\n",
    "    \n",
    "    minval = min(yr_2006_data)\n",
    "    maxval = max(yr_2006_data)\n",
    "    \n",
    "    print('Min: {}, Max: {}'.format(minval, maxval))\n",
    "    # calc average wind space for this subset\n",
    "    sigma = 0\n",
    "    for x in yr_2006_data:\n",
    "        sigma += x\n",
    "    \n",
    "    n = len(yr_2006_data)\n",
    "    print('\\n')\n",
    "    # return the average wind speed\n",
    "    return sigma/n"
   ]
  },
  {
   "cell_type": "markdown",
   "metadata": {},
   "source": [
    "# Read in all the data. What is wrong with each file's delimiters?\n",
    "- city \"xyz\" uses a semicolon delimter"
   ]
  },
  {
   "cell_type": "code",
   "execution_count": 4,
   "metadata": {},
   "outputs": [
    {
     "name": "stdout",
     "output_type": "stream",
     "text": [
      "Delimiter: ,\n",
      "\n",
      "\n",
      "Delimiter: ,\n",
      "\n",
      "\n",
      "Delimiter: ,\n",
      "\n",
      "\n",
      "Delimiter: ;\n",
      "\n",
      "\n"
     ]
    }
   ],
   "source": [
    "abc = '../Data/ABCWeather.csv'\n",
    "klm = '../Data/KLMWeather.csv'\n",
    "pqr = '../Data/PQRWeather.csv'\n",
    "xyz = '../Data/XYZWeather.txt'\n",
    "cities = ['abc', 'klm', 'pqr', 'xyz']\n",
    "all_paths = [abc, klm, pqr, xyz]\n",
    "all_data = [read_file(x) for x in all_paths]"
   ]
  },
  {
   "cell_type": "markdown",
   "metadata": {},
   "source": [
    "# Which city has average wind speed closest to 8.30 mph for March, 2006?\n",
    "\n",
    "- city \"xyz\" is closest to 8.3 mph"
   ]
  },
  {
   "cell_type": "code",
   "execution_count": 6,
   "metadata": {},
   "outputs": [],
   "source": [
    "import pandas as pd"
   ]
  },
  {
   "cell_type": "code",
   "execution_count": 9,
   "metadata": {},
   "outputs": [
    {
     "data": {
      "text/html": [
       "<div>\n",
       "<style scoped>\n",
       "    .dataframe tbody tr th:only-of-type {\n",
       "        vertical-align: middle;\n",
       "    }\n",
       "\n",
       "    .dataframe tbody tr th {\n",
       "        vertical-align: top;\n",
       "    }\n",
       "\n",
       "    .dataframe thead th {\n",
       "        text-align: right;\n",
       "    }\n",
       "</style>\n",
       "<table border=\"1\" class=\"dataframe\">\n",
       "  <thead>\n",
       "    <tr style=\"text-align: right;\">\n",
       "      <th></th>\n",
       "      <th>Year</th>\n",
       "      <th>Month</th>\n",
       "      <th>Wind SpeedKPH</th>\n",
       "      <th>Day</th>\n",
       "      <th>TimeCST</th>\n",
       "      <th>TemperatureF</th>\n",
       "    </tr>\n",
       "  </thead>\n",
       "  <tbody>\n",
       "    <tr>\n",
       "      <th>0</th>\n",
       "      <td>2000</td>\n",
       "      <td>1</td>\n",
       "      <td>21.45</td>\n",
       "      <td>1</td>\n",
       "      <td>12:53 AM</td>\n",
       "      <td>36.0</td>\n",
       "    </tr>\n",
       "    <tr>\n",
       "      <th>1</th>\n",
       "      <td>2000</td>\n",
       "      <td>1</td>\n",
       "      <td>16.25</td>\n",
       "      <td>1</td>\n",
       "      <td>1:53 AM</td>\n",
       "      <td>37.0</td>\n",
       "    </tr>\n",
       "    <tr>\n",
       "      <th>2</th>\n",
       "      <td>2000</td>\n",
       "      <td>1</td>\n",
       "      <td>13.05</td>\n",
       "      <td>1</td>\n",
       "      <td>2:53 AM</td>\n",
       "      <td>36.0</td>\n",
       "    </tr>\n",
       "    <tr>\n",
       "      <th>3</th>\n",
       "      <td>2000</td>\n",
       "      <td>1</td>\n",
       "      <td>10.39</td>\n",
       "      <td>1</td>\n",
       "      <td>3:53 AM</td>\n",
       "      <td>34.0</td>\n",
       "    </tr>\n",
       "    <tr>\n",
       "      <th>4</th>\n",
       "      <td>2000</td>\n",
       "      <td>1</td>\n",
       "      <td>6.23</td>\n",
       "      <td>1</td>\n",
       "      <td>4:53 AM</td>\n",
       "      <td>28.9</td>\n",
       "    </tr>\n",
       "  </tbody>\n",
       "</table>\n",
       "</div>"
      ],
      "text/plain": [
       "   Year  Month  Wind SpeedKPH  Day   TimeCST  TemperatureF\n",
       "0  2000      1          21.45    1  12:53 AM          36.0\n",
       "1  2000      1          16.25    1   1:53 AM          37.0\n",
       "2  2000      1          13.05    1   2:53 AM          36.0\n",
       "3  2000      1          10.39    1   3:53 AM          34.0\n",
       "4  2000      1           6.23    1   4:53 AM          28.9"
      ]
     },
     "execution_count": 9,
     "metadata": {},
     "output_type": "execute_result"
    }
   ],
   "source": [
    "p = pd.read_csv(pqr)\n",
    "p.head()"
   ]
  },
  {
   "cell_type": "code",
   "execution_count": 17,
   "metadata": {},
   "outputs": [
    {
     "data": {
      "text/plain": [
       "8.302345054666674"
      ]
     },
     "execution_count": 17,
     "metadata": {},
     "output_type": "execute_result"
    }
   ],
   "source": [
    "p = pd.read_csv(pqr)\n",
    "p.query('Year==2006 and Month == 3')['Wind SpeedKPH'].mean()*0.621371"
   ]
  },
  {
   "cell_type": "code",
   "execution_count": 20,
   "metadata": {},
   "outputs": [
    {
     "ename": "TypeError",
     "evalue": "Could not convert 3.55.8CalmCalmCalm4.65.86.98.19.211.511.512.711.510.410.49.212.75.85.86.98.18.18.16.98.18.19.26.98.19.28.15.89.210.46.98.15.88.19.29.28.19.210.411.511.513.810.410.413.812.713.811.512.711.511.511.511.58.13.55.85.83.54.68.18.18.16.98.19.212.710.46.94.64.63.54.66.94.65.86.98.18.18.19.26.910.410.48.16.93.5CalmCalmCalmCalm3.53.5Calm5.84.6CalmCalmCalm5.83.56.95.85.85.83.5CalmCalm5.84.63.53.5CalmCalmCalmCalmCalmCalmCalmCalm4.63.5CalmCalmCalm3.54.64.66.94.65.85.88.14.65.84.6Calm5.83.5Calm3.53.53.53.53.53.53.53.55.84.64.64.63.5Calm4.63.54.63.53.53.53.53.5CalmCalm3.5CalmCalmCalmCalmCalmCalmCalmCalmCalmCalmCalm3.5CalmCalm6.96.98.18.110.412.712.711.511.512.711.510.410.46.99.29.28.16.96.94.6Calm3.55.84.6CalmCalmCalmCalmCalmCalmCalmCalmCalmCalmCalmCalmCalmCalmCalmCalmCalm3.5CalmCalmCalmCalmCalmCalmCalmCalmCalmCalmCalmCalmCalmCalmCalmCalmCalmCalmCalm4.610.411.512.79.29.26.98.18.111.51513.810.49.210.412.711.58.19.25.83.5CalmCalmCalmCalmCalmCalmCalmCalm3.54.65.85.84.64.6Calm3.5Calm3.56.95.88.14.64.63.55.84.64.64.64.63.56.99.210.48.110.412.711.58.19.212.710.49.29.29.26.96.95.84.68.16.95.85.85.85.89.28.19.25.86.94.63.56.99.210.49.29.212.711.510.412.712.713.811.510.410.410.411.56.98.19.29.28.15.85.85.86.93.53.54.64.65.86.93.54.6Calm8.111.511.59.25.88.110.48.110.411.56.910.44.64.66.95.88.14.64.64.63.5Calm9.28.110.416.116.110.415151511.510.49.210.49.21511.510.45.810.48.1Calm4.64.613.817.310.46.95.83.53.53.5Calm3.58.19.211.510.48.15.86.96.98.110.49.212.712.712.71512.718.417.316.111.517.320.711.511.512.716.110.416.118.418.419.611.51511.510.413.89.29.211.524.220.719.621.920.717.319.613.817.31520.720.720.720.719.619.620.723231516.120.716.119.618.421.919.620.719.621.924.219.617.319.626.518.421.917.319.618.420.720.721.924.218.424.217.318.41517.312.71516.113.811.510.410.411.510.410.48.112.79.28.18.18.18.111.58.110.44.63.54.63.53.5CalmCalmCalmCalmCalmCalmCalmCalmCalmCalm3.53.53.5CalmCalm3.53.54.64.66.910.49.28.16.99.210.410.412.711.510.411.512.711.512.711.510.410.412.78.19.26.95.86.99.21511.51510.49.26.95.86.98.19.210.412.79.210.410.4Calm5.84.64.6CalmCalmCalmCalmCalmCalmCalm5.89.212.74.66.96.96.911.513.811.510.49.26.99.213.812.710.48.15.86.99.211.55.84.64.66.96.96.94.65.85.88.16.95.84.68.14.610.410.49.29.23.55.86.99.213.81510.43.510.410.49.29.211.516.113.816.11517.320.719.61513.816.111.511.517.31520.719.620.721.918.417.316.117.31517.316.117.316.116.121.920.72316.11511.517.31516.112.713.816.116.113.89.218.4151516.110.48.16.98.113.89.26.96.99.29.28.15.86.96.911.512.710.413.81516.116.112.712.78.111.56.95.8CalmCalmCalmCalm3.5Calm3.53.53.54.66.98.18.110.410.49.26.98.16.910.45.85.88.15.88.18.14.6CalmCalm3.5Calm3.55.84.64.65.83.5CalmCalmCalm3.53.55.86.910.48.16.96.96.93.54.68.18.15.810.45.86.911.58.19.26.99.28.18.19.26.98.18.16.95.86.96.94.69.25.88.18.111.512.713.813.811.59.210.46.95.85.85.85.84.6Calm4.64.64.63.5CalmCalmCalmCalmCalmCalmCalm4.6Calm3.5Calm4.6Calm6.99.26.96.93.5Calm4.66.93.58.14.66.98.18.1CalmCalmCalmCalmCalm6.96.95.89.213.810.411.58.111.56.95.84.63.54.63.54.64.65.86.96.95.84.65.86.96.95.85.88.15.85.84.6Calm6.96.9CalmCalm4.69.25.86.96.95.86.93.54.64.65.83.53.55.84.63.55.88.16.913.81512.713.816.113.811.51512.7151513.812.710.49.28.111.513.810.45.86.93.55.85.86.911.513.813.816.119.619.618.413.813.81510.46.96.912.712.71516.11518.42316.110.424.217.321.916.120.718.418.420.725.318.421.918.418.410.413.81515156.910.49.26.99.26.96.96.96.98.19.29.211.517.3 to numeric",
     "output_type": "error",
     "traceback": [
      "\u001b[0;31m---------------------------------------------------------------------------\u001b[0m",
      "\u001b[0;31mValueError\u001b[0m                                Traceback (most recent call last)",
      "\u001b[0;32m~/anaconda/lib/python3.6/site-packages/pandas/core/nanops.py\u001b[0m in \u001b[0;36m_ensure_numeric\u001b[0;34m(x)\u001b[0m\n\u001b[1;32m    821\u001b[0m         \u001b[0;32mtry\u001b[0m\u001b[0;34m:\u001b[0m\u001b[0;34m\u001b[0m\u001b[0m\n\u001b[0;32m--> 822\u001b[0;31m             \u001b[0mx\u001b[0m \u001b[0;34m=\u001b[0m \u001b[0mfloat\u001b[0m\u001b[0;34m(\u001b[0m\u001b[0mx\u001b[0m\u001b[0;34m)\u001b[0m\u001b[0;34m\u001b[0m\u001b[0m\n\u001b[0m\u001b[1;32m    823\u001b[0m         \u001b[0;32mexcept\u001b[0m \u001b[0mException\u001b[0m\u001b[0;34m:\u001b[0m\u001b[0;34m\u001b[0m\u001b[0m\n",
      "\u001b[0;31mValueError\u001b[0m: could not convert string to float: '3.55.8CalmCalmCalm4.65.86.98.19.211.511.512.711.510.410.49.212.75.85.86.98.18.18.16.98.18.19.26.98.19.28.15.89.210.46.98.15.88.19.29.28.19.210.411.511.513.810.410.413.812.713.811.512.711.511.511.511.58.13.55.85.83.54.68.18.18.16.98.19.212.710.46.94.64.63.54.66.94.65.86.98.18.18.19.26.910.410.48.16.93.5CalmCalmCalmCalm3.53.5Calm5.84.6CalmCalmCalm5.83.56.95.85.85.83.5CalmCalm5.84.63.53.5CalmCalmCalmCalmCalmCalmCalmCalm4.63.5CalmCalmCalm3.54.64.66.94.65.85.88.14.65.84.6Calm5.83.5Calm3.53.53.53.53.53.53.53.55.84.64.64.63.5Calm4.63.54.63.53.53.53.53.5CalmCalm3.5CalmCalmCalmCalmCalmCalmCalmCalmCalmCalmCalm3.5CalmCalm6.96.98.18.110.412.712.711.511.512.711.510.410.46.99.29.28.16.96.94.6Calm3.55.84.6CalmCalmCalmCalmCalmCalmCalmCalmCalmCalmCalmCalmCalmCalmCalmCalmCalm3.5CalmCalmCalmCalmCalmCalmCalmCalmCalmCalmCalmCalmCalmCalmCalmCalmCalmCalmCalm4.610.411.512.79.29.26.98.18.111.51513.810.49.210.412.711.58.19.25.83.5CalmCalmCalmCalmCalmCalmCalmCalm3.54.65.85.84.64.6Calm3.5Calm3.56.95.88.14.64.63.55.84.64.64.64.63.56.99.210.48.110.412.711.58.19.212.710.49.29.29.26.96.95.84.68.16.95.85.85.85.89.28.19.25.86.94.63.56.99.210.49.29.212.711.510.412.712.713.811.510.410.410.411.56.98.19.29.28.15.85.85.86.93.53.54.64.65.86.93.54.6Calm8.111.511.59.25.88.110.48.110.411.56.910.44.64.66.95.88.14.64.64.63.5Calm9.28.110.416.116.110.415151511.510.49.210.49.21511.510.45.810.48.1Calm4.64.613.817.310.46.95.83.53.53.5Calm3.58.19.211.510.48.15.86.96.98.110.49.212.712.712.71512.718.417.316.111.517.320.711.511.512.716.110.416.118.418.419.611.51511.510.413.89.29.211.524.220.719.621.920.717.319.613.817.31520.720.720.720.719.619.620.723231516.120.716.119.618.421.919.620.719.621.924.219.617.319.626.518.421.917.319.618.420.720.721.924.218.424.217.318.41517.312.71516.113.811.510.410.411.510.410.48.112.79.28.18.18.18.111.58.110.44.63.54.63.53.5CalmCalmCalmCalmCalmCalmCalmCalmCalmCalm3.53.53.5CalmCalm3.53.54.64.66.910.49.28.16.99.210.410.412.711.510.411.512.711.512.711.510.410.412.78.19.26.95.86.99.21511.51510.49.26.95.86.98.19.210.412.79.210.410.4Calm5.84.64.6CalmCalmCalmCalmCalmCalmCalm5.89.212.74.66.96.96.911.513.811.510.49.26.99.213.812.710.48.15.86.99.211.55.84.64.66.96.96.94.65.85.88.16.95.84.68.14.610.410.49.29.23.55.86.99.213.81510.43.510.410.49.29.211.516.113.816.11517.320.719.61513.816.111.511.517.31520.719.620.721.918.417.316.117.31517.316.117.316.116.121.920.72316.11511.517.31516.112.713.816.116.113.89.218.4151516.110.48.16.98.113.89.26.96.99.29.28.15.86.96.911.512.710.413.81516.116.112.712.78.111.56.95.8CalmCalmCalmCalm3.5Calm3.53.53.54.66.98.18.110.410.49.26.98.16.910.45.85.88.15.88.18.14.6CalmCalm3.5Calm3.55.84.64.65.83.5CalmCalmCalm3.53.55.86.910.48.16.96.96.93.54.68.18.15.810.45.86.911.58.19.26.99.28.18.19.26.98.18.16.95.86.96.94.69.25.88.18.111.512.713.813.811.59.210.46.95.85.85.85.84.6Calm4.64.64.63.5CalmCalmCalmCalmCalmCalmCalm4.6Calm3.5Calm4.6Calm6.99.26.96.93.5Calm4.66.93.58.14.66.98.18.1CalmCalmCalmCalmCalm6.96.95.89.213.810.411.58.111.56.95.84.63.54.63.54.64.65.86.96.95.84.65.86.96.95.85.88.15.85.84.6Calm6.96.9CalmCalm4.69.25.86.96.95.86.93.54.64.65.83.53.55.84.63.55.88.16.913.81512.713.816.113.811.51512.7151513.812.710.49.28.111.513.810.45.86.93.55.85.86.911.513.813.816.119.619.618.413.813.81510.46.96.912.712.71516.11518.42316.110.424.217.321.916.120.718.418.420.725.318.421.918.418.410.413.81515156.910.49.26.99.26.96.96.96.98.19.29.211.517.3'",
      "\nDuring handling of the above exception, another exception occurred:\n",
      "\u001b[0;31mValueError\u001b[0m                                Traceback (most recent call last)",
      "\u001b[0;32m~/anaconda/lib/python3.6/site-packages/pandas/core/nanops.py\u001b[0m in \u001b[0;36m_ensure_numeric\u001b[0;34m(x)\u001b[0m\n\u001b[1;32m    824\u001b[0m             \u001b[0;32mtry\u001b[0m\u001b[0;34m:\u001b[0m\u001b[0;34m\u001b[0m\u001b[0m\n\u001b[0;32m--> 825\u001b[0;31m                 \u001b[0mx\u001b[0m \u001b[0;34m=\u001b[0m \u001b[0mcomplex\u001b[0m\u001b[0;34m(\u001b[0m\u001b[0mx\u001b[0m\u001b[0;34m)\u001b[0m\u001b[0;34m\u001b[0m\u001b[0m\n\u001b[0m\u001b[1;32m    826\u001b[0m             \u001b[0;32mexcept\u001b[0m \u001b[0mException\u001b[0m\u001b[0;34m:\u001b[0m\u001b[0;34m\u001b[0m\u001b[0m\n",
      "\u001b[0;31mValueError\u001b[0m: complex() arg is a malformed string",
      "\nDuring handling of the above exception, another exception occurred:\n",
      "\u001b[0;31mTypeError\u001b[0m                                 Traceback (most recent call last)",
      "\u001b[0;32m~/anaconda/lib/python3.6/site-packages/pandas/core/nanops.py\u001b[0m in \u001b[0;36mf\u001b[0;34m(values, axis, skipna, **kwds)\u001b[0m\n\u001b[1;32m    127\u001b[0m                 \u001b[0;32melse\u001b[0m\u001b[0;34m:\u001b[0m\u001b[0;34m\u001b[0m\u001b[0m\n\u001b[0;32m--> 128\u001b[0;31m                     \u001b[0mresult\u001b[0m \u001b[0;34m=\u001b[0m \u001b[0malt\u001b[0m\u001b[0;34m(\u001b[0m\u001b[0mvalues\u001b[0m\u001b[0;34m,\u001b[0m \u001b[0maxis\u001b[0m\u001b[0;34m=\u001b[0m\u001b[0maxis\u001b[0m\u001b[0;34m,\u001b[0m \u001b[0mskipna\u001b[0m\u001b[0;34m=\u001b[0m\u001b[0mskipna\u001b[0m\u001b[0;34m,\u001b[0m \u001b[0;34m**\u001b[0m\u001b[0mkwds\u001b[0m\u001b[0;34m)\u001b[0m\u001b[0;34m\u001b[0m\u001b[0m\n\u001b[0m\u001b[1;32m    129\u001b[0m             \u001b[0;32mexcept\u001b[0m \u001b[0mException\u001b[0m\u001b[0;34m:\u001b[0m\u001b[0;34m\u001b[0m\u001b[0m\n",
      "\u001b[0;32m~/anaconda/lib/python3.6/site-packages/pandas/core/nanops.py\u001b[0m in \u001b[0;36mnanmean\u001b[0;34m(values, axis, skipna)\u001b[0m\n\u001b[1;32m    354\u001b[0m     \u001b[0mcount\u001b[0m \u001b[0;34m=\u001b[0m \u001b[0m_get_counts\u001b[0m\u001b[0;34m(\u001b[0m\u001b[0mmask\u001b[0m\u001b[0;34m,\u001b[0m \u001b[0maxis\u001b[0m\u001b[0;34m,\u001b[0m \u001b[0mdtype\u001b[0m\u001b[0;34m=\u001b[0m\u001b[0mdtype_count\u001b[0m\u001b[0;34m)\u001b[0m\u001b[0;34m\u001b[0m\u001b[0m\n\u001b[0;32m--> 355\u001b[0;31m     \u001b[0mthe_sum\u001b[0m \u001b[0;34m=\u001b[0m \u001b[0m_ensure_numeric\u001b[0m\u001b[0;34m(\u001b[0m\u001b[0mvalues\u001b[0m\u001b[0;34m.\u001b[0m\u001b[0msum\u001b[0m\u001b[0;34m(\u001b[0m\u001b[0maxis\u001b[0m\u001b[0;34m,\u001b[0m \u001b[0mdtype\u001b[0m\u001b[0;34m=\u001b[0m\u001b[0mdtype_sum\u001b[0m\u001b[0;34m)\u001b[0m\u001b[0;34m)\u001b[0m\u001b[0;34m\u001b[0m\u001b[0m\n\u001b[0m\u001b[1;32m    356\u001b[0m \u001b[0;34m\u001b[0m\u001b[0m\n",
      "\u001b[0;32m~/anaconda/lib/python3.6/site-packages/pandas/core/nanops.py\u001b[0m in \u001b[0;36m_ensure_numeric\u001b[0;34m(x)\u001b[0m\n\u001b[1;32m    827\u001b[0m                 raise TypeError('Could not convert {value!s} to numeric'\n\u001b[0;32m--> 828\u001b[0;31m                                 .format(value=x))\n\u001b[0m\u001b[1;32m    829\u001b[0m     \u001b[0;32mreturn\u001b[0m \u001b[0mx\u001b[0m\u001b[0;34m\u001b[0m\u001b[0m\n",
      "\u001b[0;31mTypeError\u001b[0m: Could not convert 3.55.8CalmCalmCalm4.65.86.98.19.211.511.512.711.510.410.49.212.75.85.86.98.18.18.16.98.18.19.26.98.19.28.15.89.210.46.98.15.88.19.29.28.19.210.411.511.513.810.410.413.812.713.811.512.711.511.511.511.58.13.55.85.83.54.68.18.18.16.98.19.212.710.46.94.64.63.54.66.94.65.86.98.18.18.19.26.910.410.48.16.93.5CalmCalmCalmCalm3.53.5Calm5.84.6CalmCalmCalm5.83.56.95.85.85.83.5CalmCalm5.84.63.53.5CalmCalmCalmCalmCalmCalmCalmCalm4.63.5CalmCalmCalm3.54.64.66.94.65.85.88.14.65.84.6Calm5.83.5Calm3.53.53.53.53.53.53.53.55.84.64.64.63.5Calm4.63.54.63.53.53.53.53.5CalmCalm3.5CalmCalmCalmCalmCalmCalmCalmCalmCalmCalmCalm3.5CalmCalm6.96.98.18.110.412.712.711.511.512.711.510.410.46.99.29.28.16.96.94.6Calm3.55.84.6CalmCalmCalmCalmCalmCalmCalmCalmCalmCalmCalmCalmCalmCalmCalmCalmCalm3.5CalmCalmCalmCalmCalmCalmCalmCalmCalmCalmCalmCalmCalmCalmCalmCalmCalmCalmCalm4.610.411.512.79.29.26.98.18.111.51513.810.49.210.412.711.58.19.25.83.5CalmCalmCalmCalmCalmCalmCalmCalm3.54.65.85.84.64.6Calm3.5Calm3.56.95.88.14.64.63.55.84.64.64.64.63.56.99.210.48.110.412.711.58.19.212.710.49.29.29.26.96.95.84.68.16.95.85.85.85.89.28.19.25.86.94.63.56.99.210.49.29.212.711.510.412.712.713.811.510.410.410.411.56.98.19.29.28.15.85.85.86.93.53.54.64.65.86.93.54.6Calm8.111.511.59.25.88.110.48.110.411.56.910.44.64.66.95.88.14.64.64.63.5Calm9.28.110.416.116.110.415151511.510.49.210.49.21511.510.45.810.48.1Calm4.64.613.817.310.46.95.83.53.53.5Calm3.58.19.211.510.48.15.86.96.98.110.49.212.712.712.71512.718.417.316.111.517.320.711.511.512.716.110.416.118.418.419.611.51511.510.413.89.29.211.524.220.719.621.920.717.319.613.817.31520.720.720.720.719.619.620.723231516.120.716.119.618.421.919.620.719.621.924.219.617.319.626.518.421.917.319.618.420.720.721.924.218.424.217.318.41517.312.71516.113.811.510.410.411.510.410.48.112.79.28.18.18.18.111.58.110.44.63.54.63.53.5CalmCalmCalmCalmCalmCalmCalmCalmCalmCalm3.53.53.5CalmCalm3.53.54.64.66.910.49.28.16.99.210.410.412.711.510.411.512.711.512.711.510.410.412.78.19.26.95.86.99.21511.51510.49.26.95.86.98.19.210.412.79.210.410.4Calm5.84.64.6CalmCalmCalmCalmCalmCalmCalm5.89.212.74.66.96.96.911.513.811.510.49.26.99.213.812.710.48.15.86.99.211.55.84.64.66.96.96.94.65.85.88.16.95.84.68.14.610.410.49.29.23.55.86.99.213.81510.43.510.410.49.29.211.516.113.816.11517.320.719.61513.816.111.511.517.31520.719.620.721.918.417.316.117.31517.316.117.316.116.121.920.72316.11511.517.31516.112.713.816.116.113.89.218.4151516.110.48.16.98.113.89.26.96.99.29.28.15.86.96.911.512.710.413.81516.116.112.712.78.111.56.95.8CalmCalmCalmCalm3.5Calm3.53.53.54.66.98.18.110.410.49.26.98.16.910.45.85.88.15.88.18.14.6CalmCalm3.5Calm3.55.84.64.65.83.5CalmCalmCalm3.53.55.86.910.48.16.96.96.93.54.68.18.15.810.45.86.911.58.19.26.99.28.18.19.26.98.18.16.95.86.96.94.69.25.88.18.111.512.713.813.811.59.210.46.95.85.85.85.84.6Calm4.64.64.63.5CalmCalmCalmCalmCalmCalmCalm4.6Calm3.5Calm4.6Calm6.99.26.96.93.5Calm4.66.93.58.14.66.98.18.1CalmCalmCalmCalmCalm6.96.95.89.213.810.411.58.111.56.95.84.63.54.63.54.64.65.86.96.95.84.65.86.96.95.85.88.15.85.84.6Calm6.96.9CalmCalm4.69.25.86.96.95.86.93.54.64.65.83.53.55.84.63.55.88.16.913.81512.713.816.113.811.51512.7151513.812.710.49.28.111.513.810.45.86.93.55.85.86.911.513.813.816.119.619.618.413.813.81510.46.96.912.712.71516.11518.42316.110.424.217.321.916.120.718.418.420.725.318.421.918.418.410.413.81515156.910.49.26.99.26.96.96.96.98.19.29.211.517.3 to numeric",
      "\nDuring handling of the above exception, another exception occurred:\n",
      "\u001b[0;31mValueError\u001b[0m                                Traceback (most recent call last)",
      "\u001b[0;32m~/anaconda/lib/python3.6/site-packages/pandas/core/nanops.py\u001b[0m in \u001b[0;36m_ensure_numeric\u001b[0;34m(x)\u001b[0m\n\u001b[1;32m    821\u001b[0m         \u001b[0;32mtry\u001b[0m\u001b[0;34m:\u001b[0m\u001b[0;34m\u001b[0m\u001b[0m\n\u001b[0;32m--> 822\u001b[0;31m             \u001b[0mx\u001b[0m \u001b[0;34m=\u001b[0m \u001b[0mfloat\u001b[0m\u001b[0;34m(\u001b[0m\u001b[0mx\u001b[0m\u001b[0;34m)\u001b[0m\u001b[0;34m\u001b[0m\u001b[0m\n\u001b[0m\u001b[1;32m    823\u001b[0m         \u001b[0;32mexcept\u001b[0m \u001b[0mException\u001b[0m\u001b[0;34m:\u001b[0m\u001b[0;34m\u001b[0m\u001b[0m\n",
      "\u001b[0;31mValueError\u001b[0m: could not convert string to float: '3.55.8CalmCalmCalm4.65.86.98.19.211.511.512.711.510.410.49.212.75.85.86.98.18.18.16.98.18.19.26.98.19.28.15.89.210.46.98.15.88.19.29.28.19.210.411.511.513.810.410.413.812.713.811.512.711.511.511.511.58.13.55.85.83.54.68.18.18.16.98.19.212.710.46.94.64.63.54.66.94.65.86.98.18.18.19.26.910.410.48.16.93.5CalmCalmCalmCalm3.53.5Calm5.84.6CalmCalmCalm5.83.56.95.85.85.83.5CalmCalm5.84.63.53.5CalmCalmCalmCalmCalmCalmCalmCalm4.63.5CalmCalmCalm3.54.64.66.94.65.85.88.14.65.84.6Calm5.83.5Calm3.53.53.53.53.53.53.53.55.84.64.64.63.5Calm4.63.54.63.53.53.53.53.5CalmCalm3.5CalmCalmCalmCalmCalmCalmCalmCalmCalmCalmCalm3.5CalmCalm6.96.98.18.110.412.712.711.511.512.711.510.410.46.99.29.28.16.96.94.6Calm3.55.84.6CalmCalmCalmCalmCalmCalmCalmCalmCalmCalmCalmCalmCalmCalmCalmCalmCalm3.5CalmCalmCalmCalmCalmCalmCalmCalmCalmCalmCalmCalmCalmCalmCalmCalmCalmCalmCalm4.610.411.512.79.29.26.98.18.111.51513.810.49.210.412.711.58.19.25.83.5CalmCalmCalmCalmCalmCalmCalmCalm3.54.65.85.84.64.6Calm3.5Calm3.56.95.88.14.64.63.55.84.64.64.64.63.56.99.210.48.110.412.711.58.19.212.710.49.29.29.26.96.95.84.68.16.95.85.85.85.89.28.19.25.86.94.63.56.99.210.49.29.212.711.510.412.712.713.811.510.410.410.411.56.98.19.29.28.15.85.85.86.93.53.54.64.65.86.93.54.6Calm8.111.511.59.25.88.110.48.110.411.56.910.44.64.66.95.88.14.64.64.63.5Calm9.28.110.416.116.110.415151511.510.49.210.49.21511.510.45.810.48.1Calm4.64.613.817.310.46.95.83.53.53.5Calm3.58.19.211.510.48.15.86.96.98.110.49.212.712.712.71512.718.417.316.111.517.320.711.511.512.716.110.416.118.418.419.611.51511.510.413.89.29.211.524.220.719.621.920.717.319.613.817.31520.720.720.720.719.619.620.723231516.120.716.119.618.421.919.620.719.621.924.219.617.319.626.518.421.917.319.618.420.720.721.924.218.424.217.318.41517.312.71516.113.811.510.410.411.510.410.48.112.79.28.18.18.18.111.58.110.44.63.54.63.53.5CalmCalmCalmCalmCalmCalmCalmCalmCalmCalm3.53.53.5CalmCalm3.53.54.64.66.910.49.28.16.99.210.410.412.711.510.411.512.711.512.711.510.410.412.78.19.26.95.86.99.21511.51510.49.26.95.86.98.19.210.412.79.210.410.4Calm5.84.64.6CalmCalmCalmCalmCalmCalmCalm5.89.212.74.66.96.96.911.513.811.510.49.26.99.213.812.710.48.15.86.99.211.55.84.64.66.96.96.94.65.85.88.16.95.84.68.14.610.410.49.29.23.55.86.99.213.81510.43.510.410.49.29.211.516.113.816.11517.320.719.61513.816.111.511.517.31520.719.620.721.918.417.316.117.31517.316.117.316.116.121.920.72316.11511.517.31516.112.713.816.116.113.89.218.4151516.110.48.16.98.113.89.26.96.99.29.28.15.86.96.911.512.710.413.81516.116.112.712.78.111.56.95.8CalmCalmCalmCalm3.5Calm3.53.53.54.66.98.18.110.410.49.26.98.16.910.45.85.88.15.88.18.14.6CalmCalm3.5Calm3.55.84.64.65.83.5CalmCalmCalm3.53.55.86.910.48.16.96.96.93.54.68.18.15.810.45.86.911.58.19.26.99.28.18.19.26.98.18.16.95.86.96.94.69.25.88.18.111.512.713.813.811.59.210.46.95.85.85.85.84.6Calm4.64.64.63.5CalmCalmCalmCalmCalmCalmCalm4.6Calm3.5Calm4.6Calm6.99.26.96.93.5Calm4.66.93.58.14.66.98.18.1CalmCalmCalmCalmCalm6.96.95.89.213.810.411.58.111.56.95.84.63.54.63.54.64.65.86.96.95.84.65.86.96.95.85.88.15.85.84.6Calm6.96.9CalmCalm4.69.25.86.96.95.86.93.54.64.65.83.53.55.84.63.55.88.16.913.81512.713.816.113.811.51512.7151513.812.710.49.28.111.513.810.45.86.93.55.85.86.911.513.813.816.119.619.618.413.813.81510.46.96.912.712.71516.11518.42316.110.424.217.321.916.120.718.418.420.725.318.421.918.418.410.413.81515156.910.49.26.99.26.96.96.96.98.19.29.211.517.3'",
      "\nDuring handling of the above exception, another exception occurred:\n",
      "\u001b[0;31mValueError\u001b[0m                                Traceback (most recent call last)",
      "\u001b[0;32m~/anaconda/lib/python3.6/site-packages/pandas/core/nanops.py\u001b[0m in \u001b[0;36m_ensure_numeric\u001b[0;34m(x)\u001b[0m\n\u001b[1;32m    824\u001b[0m             \u001b[0;32mtry\u001b[0m\u001b[0;34m:\u001b[0m\u001b[0;34m\u001b[0m\u001b[0m\n\u001b[0;32m--> 825\u001b[0;31m                 \u001b[0mx\u001b[0m \u001b[0;34m=\u001b[0m \u001b[0mcomplex\u001b[0m\u001b[0;34m(\u001b[0m\u001b[0mx\u001b[0m\u001b[0;34m)\u001b[0m\u001b[0;34m\u001b[0m\u001b[0m\n\u001b[0m\u001b[1;32m    826\u001b[0m             \u001b[0;32mexcept\u001b[0m \u001b[0mException\u001b[0m\u001b[0;34m:\u001b[0m\u001b[0;34m\u001b[0m\u001b[0m\n",
      "\u001b[0;31mValueError\u001b[0m: complex() arg is a malformed string",
      "\nDuring handling of the above exception, another exception occurred:\n",
      "\u001b[0;31mTypeError\u001b[0m                                 Traceback (most recent call last)",
      "\u001b[0;32m<ipython-input-20-2527812af50f>\u001b[0m in \u001b[0;36m<module>\u001b[0;34m()\u001b[0m\n\u001b[1;32m      1\u001b[0m \u001b[0mxyz\u001b[0m \u001b[0;34m=\u001b[0m \u001b[0mpd\u001b[0m\u001b[0;34m.\u001b[0m\u001b[0mread_csv\u001b[0m\u001b[0;34m(\u001b[0m\u001b[0;34m'../Data/XYZWeather.txt'\u001b[0m\u001b[0;34m,\u001b[0m\u001b[0msep\u001b[0m\u001b[0;34m=\u001b[0m\u001b[0;34m';'\u001b[0m\u001b[0;34m)\u001b[0m\u001b[0;34m\u001b[0m\u001b[0m\n\u001b[0;32m----> 2\u001b[0;31m \u001b[0mxyz\u001b[0m\u001b[0;34m.\u001b[0m\u001b[0mquery\u001b[0m\u001b[0;34m(\u001b[0m\u001b[0;34m'Year==2006 and Month == 3'\u001b[0m\u001b[0;34m)\u001b[0m\u001b[0;34m[\u001b[0m\u001b[0;34m'Wind SpeedMPH'\u001b[0m\u001b[0;34m]\u001b[0m\u001b[0;34m.\u001b[0m\u001b[0mmean\u001b[0m\u001b[0;34m(\u001b[0m\u001b[0;34m)\u001b[0m\u001b[0;34m\u001b[0m\u001b[0m\n\u001b[0m",
      "\u001b[0;32m~/anaconda/lib/python3.6/site-packages/pandas/core/generic.py\u001b[0m in \u001b[0;36mstat_func\u001b[0;34m(self, axis, skipna, level, numeric_only, **kwargs)\u001b[0m\n\u001b[1;32m   9609\u001b[0m                                       skipna=skipna)\n\u001b[1;32m   9610\u001b[0m         return self._reduce(f, name, axis=axis, skipna=skipna,\n\u001b[0;32m-> 9611\u001b[0;31m                             numeric_only=numeric_only)\n\u001b[0m\u001b[1;32m   9612\u001b[0m \u001b[0;34m\u001b[0m\u001b[0m\n\u001b[1;32m   9613\u001b[0m     \u001b[0;32mreturn\u001b[0m \u001b[0mset_function_name\u001b[0m\u001b[0;34m(\u001b[0m\u001b[0mstat_func\u001b[0m\u001b[0;34m,\u001b[0m \u001b[0mname\u001b[0m\u001b[0;34m,\u001b[0m \u001b[0mcls\u001b[0m\u001b[0;34m)\u001b[0m\u001b[0;34m\u001b[0m\u001b[0m\n",
      "\u001b[0;32m~/anaconda/lib/python3.6/site-packages/pandas/core/series.py\u001b[0m in \u001b[0;36m_reduce\u001b[0;34m(self, op, name, axis, skipna, numeric_only, filter_type, **kwds)\u001b[0m\n\u001b[1;32m   3219\u001b[0m                                           'numeric_only.'.format(name))\n\u001b[1;32m   3220\u001b[0m             \u001b[0;32mwith\u001b[0m \u001b[0mnp\u001b[0m\u001b[0;34m.\u001b[0m\u001b[0merrstate\u001b[0m\u001b[0;34m(\u001b[0m\u001b[0mall\u001b[0m\u001b[0;34m=\u001b[0m\u001b[0;34m'ignore'\u001b[0m\u001b[0;34m)\u001b[0m\u001b[0;34m:\u001b[0m\u001b[0;34m\u001b[0m\u001b[0m\n\u001b[0;32m-> 3221\u001b[0;31m                 \u001b[0;32mreturn\u001b[0m \u001b[0mop\u001b[0m\u001b[0;34m(\u001b[0m\u001b[0mdelegate\u001b[0m\u001b[0;34m,\u001b[0m \u001b[0mskipna\u001b[0m\u001b[0;34m=\u001b[0m\u001b[0mskipna\u001b[0m\u001b[0;34m,\u001b[0m \u001b[0;34m**\u001b[0m\u001b[0mkwds\u001b[0m\u001b[0;34m)\u001b[0m\u001b[0;34m\u001b[0m\u001b[0m\n\u001b[0m\u001b[1;32m   3222\u001b[0m \u001b[0;34m\u001b[0m\u001b[0m\n\u001b[1;32m   3223\u001b[0m         return delegate._reduce(op=op, name=name, axis=axis, skipna=skipna,\n",
      "\u001b[0;32m~/anaconda/lib/python3.6/site-packages/pandas/core/nanops.py\u001b[0m in \u001b[0;36m_f\u001b[0;34m(*args, **kwargs)\u001b[0m\n\u001b[1;32m     75\u001b[0m             \u001b[0;32mtry\u001b[0m\u001b[0;34m:\u001b[0m\u001b[0;34m\u001b[0m\u001b[0m\n\u001b[1;32m     76\u001b[0m                 \u001b[0;32mwith\u001b[0m \u001b[0mnp\u001b[0m\u001b[0;34m.\u001b[0m\u001b[0merrstate\u001b[0m\u001b[0;34m(\u001b[0m\u001b[0minvalid\u001b[0m\u001b[0;34m=\u001b[0m\u001b[0;34m'ignore'\u001b[0m\u001b[0;34m)\u001b[0m\u001b[0;34m:\u001b[0m\u001b[0;34m\u001b[0m\u001b[0m\n\u001b[0;32m---> 77\u001b[0;31m                     \u001b[0;32mreturn\u001b[0m \u001b[0mf\u001b[0m\u001b[0;34m(\u001b[0m\u001b[0;34m*\u001b[0m\u001b[0margs\u001b[0m\u001b[0;34m,\u001b[0m \u001b[0;34m**\u001b[0m\u001b[0mkwargs\u001b[0m\u001b[0;34m)\u001b[0m\u001b[0;34m\u001b[0m\u001b[0m\n\u001b[0m\u001b[1;32m     78\u001b[0m             \u001b[0;32mexcept\u001b[0m \u001b[0mValueError\u001b[0m \u001b[0;32mas\u001b[0m \u001b[0me\u001b[0m\u001b[0;34m:\u001b[0m\u001b[0;34m\u001b[0m\u001b[0m\n\u001b[1;32m     79\u001b[0m                 \u001b[0;31m# we want to transform an object array\u001b[0m\u001b[0;34m\u001b[0m\u001b[0;34m\u001b[0m\u001b[0m\n",
      "\u001b[0;32m~/anaconda/lib/python3.6/site-packages/pandas/core/nanops.py\u001b[0m in \u001b[0;36mf\u001b[0;34m(values, axis, skipna, **kwds)\u001b[0m\n\u001b[1;32m    129\u001b[0m             \u001b[0;32mexcept\u001b[0m \u001b[0mException\u001b[0m\u001b[0;34m:\u001b[0m\u001b[0;34m\u001b[0m\u001b[0m\n\u001b[1;32m    130\u001b[0m                 \u001b[0;32mtry\u001b[0m\u001b[0;34m:\u001b[0m\u001b[0;34m\u001b[0m\u001b[0m\n\u001b[0;32m--> 131\u001b[0;31m                     \u001b[0mresult\u001b[0m \u001b[0;34m=\u001b[0m \u001b[0malt\u001b[0m\u001b[0;34m(\u001b[0m\u001b[0mvalues\u001b[0m\u001b[0;34m,\u001b[0m \u001b[0maxis\u001b[0m\u001b[0;34m=\u001b[0m\u001b[0maxis\u001b[0m\u001b[0;34m,\u001b[0m \u001b[0mskipna\u001b[0m\u001b[0;34m=\u001b[0m\u001b[0mskipna\u001b[0m\u001b[0;34m,\u001b[0m \u001b[0;34m**\u001b[0m\u001b[0mkwds\u001b[0m\u001b[0;34m)\u001b[0m\u001b[0;34m\u001b[0m\u001b[0m\n\u001b[0m\u001b[1;32m    132\u001b[0m                 \u001b[0;32mexcept\u001b[0m \u001b[0mValueError\u001b[0m \u001b[0;32mas\u001b[0m \u001b[0me\u001b[0m\u001b[0;34m:\u001b[0m\u001b[0;34m\u001b[0m\u001b[0m\n\u001b[1;32m    133\u001b[0m                     \u001b[0;31m# we want to transform an object array\u001b[0m\u001b[0;34m\u001b[0m\u001b[0;34m\u001b[0m\u001b[0m\n",
      "\u001b[0;32m~/anaconda/lib/python3.6/site-packages/pandas/core/nanops.py\u001b[0m in \u001b[0;36mnanmean\u001b[0;34m(values, axis, skipna)\u001b[0m\n\u001b[1;32m    353\u001b[0m         \u001b[0mdtype_count\u001b[0m \u001b[0;34m=\u001b[0m \u001b[0mdtype\u001b[0m\u001b[0;34m\u001b[0m\u001b[0m\n\u001b[1;32m    354\u001b[0m     \u001b[0mcount\u001b[0m \u001b[0;34m=\u001b[0m \u001b[0m_get_counts\u001b[0m\u001b[0;34m(\u001b[0m\u001b[0mmask\u001b[0m\u001b[0;34m,\u001b[0m \u001b[0maxis\u001b[0m\u001b[0;34m,\u001b[0m \u001b[0mdtype\u001b[0m\u001b[0;34m=\u001b[0m\u001b[0mdtype_count\u001b[0m\u001b[0;34m)\u001b[0m\u001b[0;34m\u001b[0m\u001b[0m\n\u001b[0;32m--> 355\u001b[0;31m     \u001b[0mthe_sum\u001b[0m \u001b[0;34m=\u001b[0m \u001b[0m_ensure_numeric\u001b[0m\u001b[0;34m(\u001b[0m\u001b[0mvalues\u001b[0m\u001b[0;34m.\u001b[0m\u001b[0msum\u001b[0m\u001b[0;34m(\u001b[0m\u001b[0maxis\u001b[0m\u001b[0;34m,\u001b[0m \u001b[0mdtype\u001b[0m\u001b[0;34m=\u001b[0m\u001b[0mdtype_sum\u001b[0m\u001b[0;34m)\u001b[0m\u001b[0;34m)\u001b[0m\u001b[0;34m\u001b[0m\u001b[0m\n\u001b[0m\u001b[1;32m    356\u001b[0m \u001b[0;34m\u001b[0m\u001b[0m\n\u001b[1;32m    357\u001b[0m     \u001b[0;32mif\u001b[0m \u001b[0maxis\u001b[0m \u001b[0;32mis\u001b[0m \u001b[0;32mnot\u001b[0m \u001b[0;32mNone\u001b[0m \u001b[0;32mand\u001b[0m \u001b[0mgetattr\u001b[0m\u001b[0;34m(\u001b[0m\u001b[0mthe_sum\u001b[0m\u001b[0;34m,\u001b[0m \u001b[0;34m'ndim'\u001b[0m\u001b[0;34m,\u001b[0m \u001b[0;32mFalse\u001b[0m\u001b[0;34m)\u001b[0m\u001b[0;34m:\u001b[0m\u001b[0;34m\u001b[0m\u001b[0m\n",
      "\u001b[0;32m~/anaconda/lib/python3.6/site-packages/pandas/core/nanops.py\u001b[0m in \u001b[0;36m_ensure_numeric\u001b[0;34m(x)\u001b[0m\n\u001b[1;32m    826\u001b[0m             \u001b[0;32mexcept\u001b[0m \u001b[0mException\u001b[0m\u001b[0;34m:\u001b[0m\u001b[0;34m\u001b[0m\u001b[0m\n\u001b[1;32m    827\u001b[0m                 raise TypeError('Could not convert {value!s} to numeric'\n\u001b[0;32m--> 828\u001b[0;31m                                 .format(value=x))\n\u001b[0m\u001b[1;32m    829\u001b[0m     \u001b[0;32mreturn\u001b[0m \u001b[0mx\u001b[0m\u001b[0;34m\u001b[0m\u001b[0m\n\u001b[1;32m    830\u001b[0m \u001b[0;34m\u001b[0m\u001b[0m\n",
      "\u001b[0;31mTypeError\u001b[0m: Could not convert 3.55.8CalmCalmCalm4.65.86.98.19.211.511.512.711.510.410.49.212.75.85.86.98.18.18.16.98.18.19.26.98.19.28.15.89.210.46.98.15.88.19.29.28.19.210.411.511.513.810.410.413.812.713.811.512.711.511.511.511.58.13.55.85.83.54.68.18.18.16.98.19.212.710.46.94.64.63.54.66.94.65.86.98.18.18.19.26.910.410.48.16.93.5CalmCalmCalmCalm3.53.5Calm5.84.6CalmCalmCalm5.83.56.95.85.85.83.5CalmCalm5.84.63.53.5CalmCalmCalmCalmCalmCalmCalmCalm4.63.5CalmCalmCalm3.54.64.66.94.65.85.88.14.65.84.6Calm5.83.5Calm3.53.53.53.53.53.53.53.55.84.64.64.63.5Calm4.63.54.63.53.53.53.53.5CalmCalm3.5CalmCalmCalmCalmCalmCalmCalmCalmCalmCalmCalm3.5CalmCalm6.96.98.18.110.412.712.711.511.512.711.510.410.46.99.29.28.16.96.94.6Calm3.55.84.6CalmCalmCalmCalmCalmCalmCalmCalmCalmCalmCalmCalmCalmCalmCalmCalmCalm3.5CalmCalmCalmCalmCalmCalmCalmCalmCalmCalmCalmCalmCalmCalmCalmCalmCalmCalmCalm4.610.411.512.79.29.26.98.18.111.51513.810.49.210.412.711.58.19.25.83.5CalmCalmCalmCalmCalmCalmCalmCalm3.54.65.85.84.64.6Calm3.5Calm3.56.95.88.14.64.63.55.84.64.64.64.63.56.99.210.48.110.412.711.58.19.212.710.49.29.29.26.96.95.84.68.16.95.85.85.85.89.28.19.25.86.94.63.56.99.210.49.29.212.711.510.412.712.713.811.510.410.410.411.56.98.19.29.28.15.85.85.86.93.53.54.64.65.86.93.54.6Calm8.111.511.59.25.88.110.48.110.411.56.910.44.64.66.95.88.14.64.64.63.5Calm9.28.110.416.116.110.415151511.510.49.210.49.21511.510.45.810.48.1Calm4.64.613.817.310.46.95.83.53.53.5Calm3.58.19.211.510.48.15.86.96.98.110.49.212.712.712.71512.718.417.316.111.517.320.711.511.512.716.110.416.118.418.419.611.51511.510.413.89.29.211.524.220.719.621.920.717.319.613.817.31520.720.720.720.719.619.620.723231516.120.716.119.618.421.919.620.719.621.924.219.617.319.626.518.421.917.319.618.420.720.721.924.218.424.217.318.41517.312.71516.113.811.510.410.411.510.410.48.112.79.28.18.18.18.111.58.110.44.63.54.63.53.5CalmCalmCalmCalmCalmCalmCalmCalmCalmCalm3.53.53.5CalmCalm3.53.54.64.66.910.49.28.16.99.210.410.412.711.510.411.512.711.512.711.510.410.412.78.19.26.95.86.99.21511.51510.49.26.95.86.98.19.210.412.79.210.410.4Calm5.84.64.6CalmCalmCalmCalmCalmCalmCalm5.89.212.74.66.96.96.911.513.811.510.49.26.99.213.812.710.48.15.86.99.211.55.84.64.66.96.96.94.65.85.88.16.95.84.68.14.610.410.49.29.23.55.86.99.213.81510.43.510.410.49.29.211.516.113.816.11517.320.719.61513.816.111.511.517.31520.719.620.721.918.417.316.117.31517.316.117.316.116.121.920.72316.11511.517.31516.112.713.816.116.113.89.218.4151516.110.48.16.98.113.89.26.96.99.29.28.15.86.96.911.512.710.413.81516.116.112.712.78.111.56.95.8CalmCalmCalmCalm3.5Calm3.53.53.54.66.98.18.110.410.49.26.98.16.910.45.85.88.15.88.18.14.6CalmCalm3.5Calm3.55.84.64.65.83.5CalmCalmCalm3.53.55.86.910.48.16.96.96.93.54.68.18.15.810.45.86.911.58.19.26.99.28.18.19.26.98.18.16.95.86.96.94.69.25.88.18.111.512.713.813.811.59.210.46.95.85.85.85.84.6Calm4.64.64.63.5CalmCalmCalmCalmCalmCalmCalm4.6Calm3.5Calm4.6Calm6.99.26.96.93.5Calm4.66.93.58.14.66.98.18.1CalmCalmCalmCalmCalm6.96.95.89.213.810.411.58.111.56.95.84.63.54.63.54.64.65.86.96.95.84.65.86.96.95.85.88.15.85.84.6Calm6.96.9CalmCalm4.69.25.86.96.95.86.93.54.64.65.83.53.55.84.63.55.88.16.913.81512.713.816.113.811.51512.7151513.812.710.49.28.111.513.810.45.86.93.55.85.86.911.513.813.816.119.619.618.413.813.81510.46.96.912.712.71516.11518.42316.110.424.217.321.916.120.718.418.420.725.318.421.918.418.410.413.81515156.910.49.26.99.26.96.96.96.98.19.29.211.517.3 to numeric"
     ]
    }
   ],
   "source": [
    "xyz = pd.read_csv('../Data/XYZWeather.txt',sep=';')\n",
    "xyz.query('Year==2006 and Month == 3')['Wind SpeedMPH'].mean()"
   ]
  },
  {
   "cell_type": "code",
   "execution_count": 5,
   "metadata": {},
   "outputs": [
    {
     "name": "stdout",
     "output_type": "stream",
     "text": [
      "Processing Wind\n",
      "Min: 0, Max: 34.5\n",
      "\n",
      "\n",
      "Processing Wind\n",
      "Wind is in column index 4\n",
      "Min: 0, Max: 33.7\n",
      "\n",
      "\n",
      "Processing Wind\n",
      "Wind is in column index 2\n",
      "Speed not in MPH\n",
      "Min: 0.0, Max: 28.31587647\n",
      "\n",
      "\n",
      "Processing Wind\n",
      "Min: 0, Max: 31.1\n",
      "\n",
      "\n"
     ]
    }
   ],
   "source": [
    "wind_results = [process_wind(x) for x in all_data]"
   ]
  },
  {
   "cell_type": "code",
   "execution_count": 6,
   "metadata": {},
   "outputs": [
    {
     "data": {
      "text/plain": [
       "{'abc': -0.7531180935908148,\n",
       " 'klm': -0.7503939656000425,\n",
       " 'pqr': -0.36500456067455644,\n",
       " 'xyz': 0.06329418559879585}"
      ]
     },
     "execution_count": 6,
     "metadata": {},
     "output_type": "execute_result"
    }
   ],
   "source": [
    "wind_diffs = [x-8.3 for x in wind_results]\n",
    "{k: v for k, v in zip(cities, wind_diffs)}"
   ]
  },
  {
   "cell_type": "markdown",
   "metadata": {},
   "source": [
    "# Which city had the closest temperature in fahrenheit to 49.65 for all 2006?\n",
    "- city 2 \"KLM\" is closest to 49.65"
   ]
  },
  {
   "cell_type": "code",
   "execution_count": 7,
   "metadata": {},
   "outputs": [
    {
     "name": "stdout",
     "output_type": "stream",
     "text": [
      "Processing Temp\n",
      "Temp not in F\n",
      "-9999.003999999999\n",
      "Min: -7.996000000000002, Max: 98.096\n",
      "\n",
      "\n",
      "Processing Temp\n",
      "Temp is in column index 0\n",
      "-5223.49\n",
      "Min: 6.7, Max: 84.87\n",
      "\n",
      "\n",
      "Processing Temp\n",
      "Temp is in column index 5\n",
      "-9999.0\n",
      "Min: -8.0, Max: 98.1\n",
      "\n",
      "\n",
      "Processing Temp\n",
      "-9999.0\n",
      "Min: -17.0, Max: 96.8\n",
      "\n",
      "\n"
     ]
    }
   ],
   "source": [
    "temp_results = [process_temp(x) for x in all_data]"
   ]
  },
  {
   "cell_type": "code",
   "execution_count": 8,
   "metadata": {},
   "outputs": [
    {
     "data": {
      "text/plain": [
       "{'abc': 2.602219415790927,\n",
       " 'klm': -0.0016455818446488024,\n",
       " 'pqr': 2.602193193868686,\n",
       " 'xyz': -1.585706715482928}"
      ]
     },
     "execution_count": 8,
     "metadata": {},
     "output_type": "execute_result"
    }
   ],
   "source": [
    "temp_diffs=[x-49.65 for x in temp_results]\n",
    "{k: v for k, v in zip(cities, temp_diffs)}"
   ]
  }
 ],
 "metadata": {
  "kernelspec": {
   "display_name": "Python 3",
   "language": "python",
   "name": "python3"
  },
  "language_info": {
   "codemirror_mode": {
    "name": "ipython",
    "version": 3
   },
   "file_extension": ".py",
   "mimetype": "text/x-python",
   "name": "python",
   "nbconvert_exporter": "python",
   "pygments_lexer": "ipython3",
   "version": "3.6.2"
  }
 },
 "nbformat": 4,
 "nbformat_minor": 2
}
